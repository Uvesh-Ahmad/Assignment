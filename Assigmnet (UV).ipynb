{
 "cells": [
  {
   "cell_type": "markdown",
   "id": "c120e286-4aca-4a3c-aab6-2a00c4085897",
   "metadata": {},
   "source": [
    "# Assignment Topic:\n"
   ]
  },
  {
   "cell_type": "markdown",
   "id": "2d8af84b-2e52-4f5e-8917-e25aafabbf32",
   "metadata": {},
   "source": [
    "#### I was provided with an empty Jupyterlite notebook which I launched in the course, to complete this assignment. I needed to include a combination of markdown and code cells. I did not needed to use the Markdown cheat sheet to help me determine the appropriate syntax for my markdown."
   ]
  },
  {
   "cell_type": "markdown",
   "id": "a8228d67-3363-43e1-b1f9-6e743c2c7e84",
   "metadata": {},
   "source": [
    "##### Guidelines for the submission:\n"
   ]
  },
  {
   "cell_type": "code",
   "execution_count": null,
   "id": "e5fdfa0b-7fff-449e-93b1-f75bc7a85791",
   "metadata": {},
   "outputs": [],
   "source": []
  },
  {
   "cell_type": "markdown",
   "id": "ac605cdd-c3ba-4302-909c-7f8ff496b755",
   "metadata": {},
   "source": [
    "<h4>There are a total of 25 points possible for this final project.</h4>"
   ]
  },
  {
   "cell_type": "code",
   "execution_count": null,
   "id": "c6002a67-640b-4603-a214-246209c03770",
   "metadata": {},
   "outputs": [],
   "source": []
  },
  {
   "cell_type": "markdown",
   "id": "9e91e27e-44fe-424a-9c7b-36c79e567ae5",
   "metadata": {},
   "source": [
    "#### Name: Assignment Submitting My Work"
   ]
  },
  {
   "cell_type": "markdown",
   "id": "0ad138d3-1605-4a6b-8945-16a0eb77447d",
   "metadata": {},
   "source": [
    "#### EXERCISE 2 - CREATE A MARKDOWN CELL WITH THE TITLE OF THE NOTEBOOK \n"
   ]
  },
  {
   "cell_type": "markdown",
   "id": "ee81fb63-e830-40d4-a75c-c5abae35c271",
   "metadata": {},
   "source": [
    "<h4>Answers <h4> \n",
    "<h5>Data Science Tools and Ecosystem.<h5>\n"
   ]
  },
  {
   "cell_type": "markdown",
   "id": "7104d05c-35da-48a2-8912-0046310a5c10",
   "metadata": {},
   "source": [
    "#### EXERCISE - 3 CREATE A MARKDOWN CELL FOR AN INTRODUCTION."
   ]
  },
  {
   "cell_type": "markdown",
   "id": "53f944e2-9590-4fec-ad41-5e8b9bbf3a35",
   "metadata": {},
   "source": [
    "<h4>Answers<h4>\n",
    "\n",
    "<h5> Markdown cells allow I to write plain text and format it using the Markdown syntax rules. This type of cells also supports standard LaTex notation so we can include mathematical symbols in our text. Markdown cells usually serve as explanatory or descriptive texts to our code. <h5>"
   ]
  },
  {
   "cell_type": "markdown",
   "id": "7c04e66d-398d-4161-9889-b7c33af470fc",
   "metadata": {},
   "source": [
    "#### EXERCISE 4- CREATE A MARKDOWN CELL TO LIST DATA SCIENCE LANGUAGES.\n"
   ]
  },
  {
   "cell_type": "markdown",
   "id": "87f64a72-7e52-4d28-b3b8-4aad76f41eb3",
   "metadata": {},
   "source": [
    "<h4> Answers <h4>"
   ]
  },
  {
   "cell_type": "markdown",
   "id": "1eb4f803-8c51-46a2-b797-4bcedbe4eb3b",
   "metadata": {},
   "source": [
    "#### Some of the popular languages that Data Scientists use are:\n",
    "<h6>Python.</h6></h6><h6>R.</h6><h6>SQL.</h6><h6>Julia.</h6><h6>Scala.</h6><h6>C/C++.</h6><h6>JavaScript.</h6>\n",
    "\n",
    "\n",
    "\n",
    "\n"
   ]
  },
  {
   "cell_type": "markdown",
   "id": "a5abdac7-9b99-46e5-9342-b77a446abdbd",
   "metadata": {},
   "source": [
    "#### EXERCISE 5 - CREATE A MARKDOWN CELL TO DATA SCIENCE LIBRARIES."
   ]
  },
  {
   "cell_type": "markdown",
   "id": "f6b9e117-a12c-40de-8cbb-25e2f266cec2",
   "metadata": {},
   "source": [
    "<h4>Answers</h4>"
   ]
  },
  {
   "cell_type": "markdown",
   "id": "a27303e5-4328-48da-ae05-ed516655720e",
   "metadata": {},
   "source": [
    "<h6>TensorFlow.</h6>\n",
    "<h6>NumPy.</h6>\n",
    "<h6>SciPy.</h6>\n",
    "<h6>Matplotlib.</h6>\n",
    "<h6>Karas.</h6>\n",
    "<h6>Scikit-Learn.</h6>\n",
    "<h6>PyTorch.</h6>\n",
    "\n",
    "<h6>Scrapy.</h6>\n",
    "<h6>BeutifulSoup.</h6>\n",
    "<h6>ELI5.</h6>\n",
    "<h6>LightGBM.</h6>\n",
    "<h6>Theano.</h6>\n",
    "<h6>NupIC.</h6>\n",
    "<h6>Ramp.</h6>\n",
    "<h6>Pipenv.</h6>\n",
    "<h6>Bob.</h6>\n",
    "<h6>PyBrain.</h6>\n",
    "<h6>Caffe2.</h6>\n",
    "\n"
   ]
  },
  {
   "cell_type": "markdown",
   "id": "08cc04d8-a2b7-4e3a-80b1-70984b18c9bb",
   "metadata": {},
   "source": [
    "#### EXERCISE 6 - CREATE A MARKDOWN CELL WITH A TABKE OF DATA SCIENCE TOOLS."
   ]
  },
  {
   "cell_type": "markdown",
   "id": "da2ae677-f8cd-433f-b70d-715c89936b2f",
   "metadata": {},
   "source": [
    "<h4>Answer</h4>"
   ]
  },
  {
   "cell_type": "markdown",
   "id": "414f7277-d0fb-44d1-8a7c-8de956332f69",
   "metadata": {},
   "source": [
    "<h5> Data Science Tools <h5>\n",
    "    <h6> SAS. It is one of those data science tools which are specifically designed for statistical operation </h6>\n",
    "    <h6>Apache Spark</h6>\n",
    "    <h6>BigML</h6>"
   ]
  },
  {
   "cell_type": "markdown",
   "id": "e9b89cb0-da2e-456f-b8c1-f48c3cfa7bca",
   "metadata": {},
   "source": [
    "#### EXERCISE 7 - CREATE A MARKDOWN CELL INTRODUCTION ARITHMETIC EXPRESSION EXAMPLE."
   ]
  },
  {
   "cell_type": "markdown",
   "id": "2e7b9665-dcfb-4550-b801-4be130d70bf0",
   "metadata": {},
   "source": [
    "<h4> Answers</h4>"
   ]
  },
  {
   "cell_type": "markdown",
   "id": "40feaa70-cf9a-4b7c-9503-64c2327e0d3d",
   "metadata": {},
   "source": [
    "##### Example of evaluating arithmetic expressions in Python"
   ]
  },
  {
   "cell_type": "code",
   "execution_count": 5,
   "id": "04bd828d-e09d-4a4a-8947-2995007e021f",
   "metadata": {},
   "outputs": [
    {
     "data": {
      "text/plain": [
       "7"
      ]
     },
     "execution_count": 5,
     "metadata": {},
     "output_type": "execute_result"
    }
   ],
   "source": [
    "# Arithmetic operations\n",
    "code = compile(\"2 + 5\", \"<string>\", \"eval\")\n",
    "eval(code)\n",
    "\n",
    "# Result: 7"
   ]
  },
  {
   "cell_type": "code",
   "execution_count": 6,
   "id": "2fb3f5d9-5805-44d1-9f14-58b51fd35ed5",
   "metadata": {},
   "outputs": [
    {
     "data": {
      "text/plain": [
       "36"
      ]
     },
     "execution_count": 6,
     "metadata": {},
     "output_type": "execute_result"
    }
   ],
   "source": [
    "code1 = compile(\"(6 + 6) * 3\", \"<string>\", \"eval\")\n",
    "eval(code1)\n",
    "\n",
    "# Result: 36 "
   ]
  },
  {
   "cell_type": "code",
   "execution_count": 7,
   "id": "611cc650-6736-470d-85a2-e22ae66bffb1",
   "metadata": {},
   "outputs": [
    {
     "data": {
      "text/plain": [
       "65449.84694978735"
      ]
     },
     "execution_count": 7,
     "metadata": {},
     "output_type": "execute_result"
    }
   ],
   "source": [
    "import math\n",
    "# Volume of a sphere\n",
    "code2 = compile(\"4 / 3 * math.pi * math.pow(25, 3)\", \"<string>\", \"eval\")\n",
    "eval(code2)\n",
    "# Result: 65449.84694978735"
   ]
  },
  {
   "cell_type": "markdown",
   "id": "87c14d81-ed28-4ba4-9eb5-52498e99ccb0",
   "metadata": {},
   "source": [
    "#### EXERCISE 8 - CREATE A CODE A CELL TO MULTIPLY AND ADD NUMBERS."
   ]
  },
  {
   "cell_type": "markdown",
   "id": "f8c25ca0-6003-4d50-9929-0d14652adab8",
   "metadata": {},
   "source": [
    " <h5> This a simple arithmetic expression to mutiply then add integers</h5>"
   ]
  },
  {
   "cell_type": "code",
   "execution_count": 9,
   "id": "c00be8c5-4c66-4be2-b1f7-2786fa55a7e8",
   "metadata": {},
   "outputs": [
    {
     "data": {
      "text/plain": [
       "9"
      ]
     },
     "execution_count": 9,
     "metadata": {},
     "output_type": "execute_result"
    }
   ],
   "source": [
    "(3*4)+5 - 8\n",
    "\n",
    "# Result: 9\n"
   ]
  },
  {
   "cell_type": "markdown",
   "id": "0a33ba5b-7f85-4dc8-8874-6a6b96ba08de",
   "metadata": {},
   "source": [
    "#### EXERCISE 9 - CREATE A CODE CELL TO CONVERT MINUTES TO HOURS."
   ]
  },
  {
   "cell_type": "markdown",
   "id": "1dbc3cb8-ed78-4b07-8bf1-56c1c85d5854",
   "metadata": {},
   "source": [
    "#### Answers"
   ]
  },
  {
   "cell_type": "markdown",
   "id": "ca157db4-6725-42af-a11c-c4c430024243",
   "metadata": {},
   "source": [
    "<h5> This will convert 200 minutes to hours by diving by 60 </h5>\n"
   ]
  },
  {
   "cell_type": "code",
   "execution_count": 10,
   "id": "7358943c-f0c6-4905-8538-0020981bdd58",
   "metadata": {},
   "outputs": [
    {
     "name": "stdin",
     "output_type": "stream",
     "text": [
      "Enter the number of minutes:  5\n"
     ]
    },
    {
     "name": "stdout",
     "output_type": "stream",
     "text": [
      "5.0 minutes is equal to 0.08333333333333333 hours\n"
     ]
    }
   ],
   "source": [
    "# Get input from the user\n",
    "minutes = float(input(\"Enter the number of minutes: \"))\n",
    "\n",
    "# Convert minutes to hours\n",
    "hours = minutes / 60\n",
    "\n",
    "# Display the result\n",
    "print(f\"{minutes} minutes is equal to {hours} hours\")\n"
   ]
  },
  {
   "cell_type": "markdown",
   "id": "c22e291a-fd6f-4762-bd69-8b9179b3aab2",
   "metadata": {},
   "source": [
    "#### EXERCISE 10 - INSERT A MARKDOWN CELL TO LIST OBJECTIVES."
   ]
  },
  {
   "cell_type": "markdown",
   "id": "55a8163c-83a4-4b90-99ea-45afa781e588",
   "metadata": {},
   "source": [
    "<h4>Answers </h4>"
   ]
  },
  {
   "cell_type": "markdown",
   "id": "d59ca667-d7e5-4af3-b255-7a479908c9ab",
   "metadata": {},
   "source": [
    "<h4>Objectives:</h4>\n",
    "\n",
    "<h5>List popular languages that Data Scientists use.</h5>\n",
    "<h5>List commonly used libraries used by Data Scientists.</h5>\n",
    "<h5>Comment on Data Science tools.<h5>"
   ]
  },
  {
   "cell_type": "markdown",
   "id": "80894373-c44c-4c03-bae5-6816c77f3919",
   "metadata": {},
   "source": [
    "#### EXERCISE 11 - CREATE A MARKDOWN CELL TO INDICATE THE AUTHOR'S NAME."
   ]
  },
  {
   "cell_type": "markdown",
   "id": "fff0e57b-d5b8-489a-a986-2fa6d44a68f2",
   "metadata": {},
   "source": [
    "#### Answers"
   ]
  },
  {
   "cell_type": "markdown",
   "id": "e1effbb2-294e-4fba-bf27-64fdf02f58e7",
   "metadata": {},
   "source": [
    "#### Author's <h4> Uvesh Ahmad</h4>"
   ]
  },
  {
   "cell_type": "code",
   "execution_count": null,
   "id": "f0824600-cd4b-4dc0-89ff-55fe300c9fc5",
   "metadata": {},
   "outputs": [],
   "source": []
  }
 ],
 "metadata": {
  "kernelspec": {
   "display_name": "Python 3 (ipykernel)",
   "language": "python",
   "name": "python3"
  },
  "language_info": {
   "codemirror_mode": {
    "name": "ipython",
    "version": 3
   },
   "file_extension": ".py",
   "mimetype": "text/x-python",
   "name": "python",
   "nbconvert_exporter": "python",
   "pygments_lexer": "ipython3",
   "version": "3.10.9"
  }
 },
 "nbformat": 4,
 "nbformat_minor": 5
}
